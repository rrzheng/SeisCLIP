{
 "cells": [
  {
   "cell_type": "code",
   "execution_count": 1,
   "id": "48c33079-6235-4f79-ad45-5e21e0b2ed48",
   "metadata": {},
   "outputs": [],
   "source": [
    "from stead_dataloader import *"
   ]
  },
  {
   "cell_type": "code",
   "execution_count": 2,
   "id": "1df5667d-9b1c-4b6e-8780-6e87e74b6f07",
   "metadata": {},
   "outputs": [
    {
     "name": "stderr",
     "output_type": "stream",
     "text": [
      "/Users/xusi/phdstudy/code/SeisCLIP/Pretrain/stead_dataloader.py:92: DtypeWarning: Columns (26) have mixed types. Specify dtype option on import or set low_memory=False.\n",
      "  csv_stead = pd.read_csv(csv_path)\n"
     ]
    },
    {
     "name": "stdout",
     "output_type": "stream",
     "text": [
      "total events in csv file: 200000\n",
      "total events selected: 200000\n"
     ]
    }
   ],
   "source": [
    "csv_stead = read_stead_data()"
   ]
  },
  {
   "cell_type": "code",
   "execution_count": 13,
   "id": "d83afa9e-ffa2-4bf3-975d-cc52f8b1e6c8",
   "metadata": {},
   "outputs": [],
   "source": [
    "import re\n",
    "import torch\n",
    "import numpy as np\n",
    "import pandas as pd\n",
    "from scipy.signal import stft\n",
    "from torch.utils.data import Dataset, DataLoader\n",
    "\n",
    "import h5py\n",
    "\n",
    "\n",
    "# 自定义数据集类\n",
    "class stead_loader(Dataset):\n",
    "    def __init__(self, csv, sample_rate=100, window_length=100, nfft=32, hdf5_path='./data/chunk2/chunk2.hdf5'):\n",
    "        self.hdf5_path = hdf5_path\n",
    "        self.csv = csv\n",
    "        self.selected_columns = ['p_arrival_sample', 'p_weight', 'p_travel_sec', 's_arrival_sample', 's_weight', 'source_distance_km', 'back_azimuth_deg', 'coda_end_sample']\n",
    "        self.sample_rate = sample_rate\n",
    "        self.window_length = window_length\n",
    "        self.nfft = nfft\n",
    "        \n",
    "    def __len__(self):\n",
    "        return len(self.csv)\n",
    "\n",
    "    def __getitem__(self, idx):\n",
    "        # 根据索引获取样本\n",
    "        random_line = self.csv.iloc[idx]   \n",
    "        dt_stead = h5py.File(self.hdf5_path, mode = \"r\")\n",
    "        dataset = dt_stead.get('data/'+random_line.iloc[-1])\n",
    "        data = np.array(dataset)\n",
    "        data = self.z_norm(data)\n",
    "        spec = self.cal_norm_spectrogram(data)\n",
    "        \n",
    "        # 选取指定的列\n",
    "        selected_signal = random_line[self.selected_columns]\n",
    "        label = self.norm_text(selected_signal)\n",
    "        spec = torch.tensor(spec)\n",
    "        text = torch.tensor(label)\n",
    "        data = torch.tensor(data).T\n",
    "        \n",
    "        # 返回样本\n",
    "        return data,text,spec\n",
    "    \n",
    "\n",
    "    def z_norm(self,x):\n",
    "        for i in range(3):\n",
    "            x_std = x[:,i].std()+1e-3\n",
    "            x[:,i] = (x[:,i] - x[:,i].mean())/x_std\n",
    "        return x\n",
    "    \n",
    "    \n",
    "    def cal_norm_spectrogram(self,x):\n",
    "        spec = np.zeros([3,int(x.shape[0]/self.window_length * 2),int(self.nfft/2)])\n",
    "        for i in range(3):\n",
    "            _, _, spectrogram = stft(x[:,i], fs=self.sample_rate, window='hann', nperseg=self.window_length, noverlap=int(self.window_length/2), nfft=self.nfft,boundary='zeros')\n",
    "            spectrogram = spectrogram[1:,1:]\n",
    "            # spectrogram = (spectrogram - spectrogram.mean())/spectrogram.std()+1e-3\n",
    "            spec[i,:] = np.abs(spectrogram).transpose(1,0)\n",
    "        return spec\n",
    "    \n",
    "    def norm_text(self,selected_signal):\n",
    "\n",
    "        string = selected_signal['coda_end_sample']\n",
    "        # 定义多个分隔符\n",
    "        separators = ['[[',\".\"]\n",
    "\n",
    "        # 使用多个分隔符对字符串进行分割并保留所有子字符串\n",
    "        pattern = \"|\".join(map(re.escape, separators))\n",
    "        result = re.split(pattern, string)\n",
    "\n",
    "        selected_signal['coda_end_sample'] = int(result[1])\n",
    "        y = np.array(selected_signal.values,dtype='float')\n",
    "        # ['p_arrival_sample', 'p_weight', 'p_travel_sec', 's_arrival_sample', 's_weight', 'source_distance_km', 'back_azimuth_deg', 'coda_end_sample']\n",
    "        # normalize P_sample,p_travel,s_sample,source_distance,azimuth, coda and sample\n",
    "        y[0] = y[0]/6000\n",
    "        y[2] = y[2]/60\n",
    "        y[3] = y[3]/6000\n",
    "        y[5] = y[5]/300\n",
    "        y[6] = y[6]/360\n",
    "        y[7] = y[7]/6000\n",
    "        y = self.replace_nan_with_zero(y)\n",
    "        return y\n",
    "        \n",
    "    def replace_nan_with_zero(self,arr):\n",
    "        mask = np.isnan(arr)  # 创建一个布尔掩码，标识出数组中的 NaN 值\n",
    "        arr[mask] = 0         # 将掩码中对应位置的元素替换为 0\n",
    "        return arr"
   ]
  },
  {
   "cell_type": "code",
   "execution_count": 23,
   "id": "508c96f5-fa91-4bde-9b88-bd8fb35aa3bf",
   "metadata": {},
   "outputs": [],
   "source": [
    "train_dataset = stead_loader(csv_stead[0:100],window_length=100,nfft=100)\n",
    "val_dataset = stead_loader(csv_stead[100:120],window_length=20,nfft=100)\n",
    "train_dataloader = DataLoader(train_dataset, batch_size=4, num_workers = 0)"
   ]
  },
  {
   "cell_type": "code",
   "execution_count": 24,
   "id": "ef30810c-d64b-44d7-bdeb-723cf235d306",
   "metadata": {},
   "outputs": [
    {
     "name": "stdout",
     "output_type": "stream",
     "text": [
      "torch.Size([4, 3, 120, 50])\n",
      "torch.Size([4, 3, 120, 50])\n",
      "torch.Size([4, 3, 120, 50])\n",
      "torch.Size([4, 3, 120, 50])\n",
      "torch.Size([4, 3, 120, 50])\n",
      "torch.Size([4, 3, 120, 50])\n",
      "torch.Size([4, 3, 120, 50])\n",
      "torch.Size([4, 3, 120, 50])\n",
      "torch.Size([4, 3, 120, 50])\n",
      "torch.Size([4, 3, 120, 50])\n",
      "torch.Size([4, 3, 120, 50])\n",
      "torch.Size([4, 3, 120, 50])\n",
      "torch.Size([4, 3, 120, 50])\n",
      "torch.Size([4, 3, 120, 50])\n",
      "torch.Size([4, 3, 120, 50])\n",
      "torch.Size([4, 3, 120, 50])\n",
      "torch.Size([4, 3, 120, 50])\n",
      "torch.Size([4, 3, 120, 50])\n",
      "torch.Size([4, 3, 120, 50])\n",
      "torch.Size([4, 3, 120, 50])\n",
      "torch.Size([4, 3, 120, 50])\n",
      "torch.Size([4, 3, 120, 50])\n",
      "torch.Size([4, 3, 120, 50])\n",
      "torch.Size([4, 3, 120, 50])\n",
      "torch.Size([4, 3, 120, 50])\n"
     ]
    }
   ],
   "source": [
    "for batch in train_dataloader:\n",
    "    info = batch[1]\n",
    "    spec = batch[2]\n",
    "    print(spec.shape)"
   ]
  },
  {
   "cell_type": "code",
   "execution_count": null,
   "id": "dd1bd7ec-6d26-483c-a8b6-d9af03e0b475",
   "metadata": {},
   "outputs": [],
   "source": []
  }
 ],
 "metadata": {
  "kernelspec": {
   "display_name": "seisclip",
   "language": "python",
   "name": "seisclip"
  },
  "language_info": {
   "codemirror_mode": {
    "name": "ipython",
    "version": 3
   },
   "file_extension": ".py",
   "mimetype": "text/x-python",
   "name": "python",
   "nbconvert_exporter": "python",
   "pygments_lexer": "ipython3",
   "version": "3.9.0"
  }
 },
 "nbformat": 4,
 "nbformat_minor": 5
}
